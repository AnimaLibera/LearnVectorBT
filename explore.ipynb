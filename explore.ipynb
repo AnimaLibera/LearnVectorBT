{
 "cells": [
  {
   "cell_type": "markdown",
   "metadata": {},
   "source": [
    "# Explore the VectorBT Module"
   ]
  },
  {
   "cell_type": "code",
   "execution_count": 1,
   "metadata": {},
   "outputs": [
    {
     "name": "stderr",
     "output_type": "stream",
     "text": [
      "/tmp/ipykernel_21263/794029728.py:2: DeprecationWarning: \n",
      "Pyarrow will become a required dependency of pandas in the next major release of pandas (pandas 3.0),\n",
      "(to allow more performant data types, such as the Arrow string type, and better interoperability with other libraries)\n",
      "but was not found to be installed on your system.\n",
      "If this would cause problems for you,\n",
      "please provide us feedback at https://github.com/pandas-dev/pandas/issues/54466\n",
      "        \n",
      "  import pandas as pd\n"
     ]
    }
   ],
   "source": [
    "import numpy as np\n",
    "import pandas as pd\n",
    "from datetime import datetime\n",
    "import vectorbt as vbt"
   ]
  },
  {
   "cell_type": "code",
   "execution_count": 2,
   "metadata": {},
   "outputs": [
    {
     "name": "stderr",
     "output_type": "stream",
     "text": [
      "/home/animalibera/.pyenv/versions/3.12.1/lib/python3.12/site-packages/yfinance/utils.py:775: FutureWarning: The 'unit' keyword in TimedeltaIndex construction is deprecated and will be removed in a future version. Use pd.to_timedelta instead.\n",
      "  df.index += _pd.TimedeltaIndex(dst_error_hours, 'h')\n"
     ]
    },
    {
     "data": {
      "text/plain": [
       "Date\n",
       "2019-01-01 00:00:00+00:00    3843.520020\n",
       "2019-01-02 00:00:00+00:00    3943.409424\n",
       "2019-01-03 00:00:00+00:00    3836.741211\n",
       "2019-01-04 00:00:00+00:00    3857.717529\n",
       "2019-01-05 00:00:00+00:00    3845.194580\n",
       "                                ...     \n",
       "2019-12-27 00:00:00+00:00    7290.088379\n",
       "2019-12-28 00:00:00+00:00    7317.990234\n",
       "2019-12-29 00:00:00+00:00    7422.652832\n",
       "2019-12-30 00:00:00+00:00    7292.995117\n",
       "2019-12-31 00:00:00+00:00    7193.599121\n",
       "Freq: D, Name: Close, Length: 365, dtype: float64"
      ]
     },
     "execution_count": 2,
     "metadata": {},
     "output_type": "execute_result"
    }
   ],
   "source": [
    "start = '2019-01-01 UTC'  # crypto is in UTC\n",
    "end = '2020-01-01 UTC'\n",
    "btc_price = vbt.YFData.download('BTC-USD', start=start, end=end).get('Close')\n",
    "btc_price"
   ]
  },
  {
   "cell_type": "code",
   "execution_count": 3,
   "metadata": {},
   "outputs": [
    {
     "data": {
      "text/plain": [
       "0.6351860771192923"
      ]
     },
     "execution_count": 3,
     "metadata": {},
     "output_type": "execute_result"
    }
   ],
   "source": [
    "fast_ma = vbt.MA.run(btc_price, 10, short_name=\"fast\")\n",
    "slow_ma = vbt.MA.run(btc_price, 20, short_name=\"slow\")\n",
    "\n",
    "entries = fast_ma.ma_crossed_above(slow_ma)\n",
    "exits = fast_ma.ma_crossed_below(slow_ma)\n",
    "\n",
    "pf = vbt.Portfolio.from_signals(btc_price, entries, exits)\n",
    "\n",
    "pf.total_return()"
   ]
  },
  {
   "cell_type": "code",
   "execution_count": 5,
   "metadata": {},
   "outputs": [
    {
     "data": {
      "text/plain": [
       "fast_window  slow_window\n",
       "10           30             0.847151\n",
       "20           30             0.543411\n",
       "Name: total_return, dtype: float64"
      ]
     },
     "execution_count": 5,
     "metadata": {},
     "output_type": "execute_result"
    }
   ],
   "source": [
    "fast_ma = vbt.MA.run(btc_price, [10, 20], short_name=\"fast\")\n",
    "slow_ma = vbt.MA.run(btc_price, [30, 30], short_name=\"slow\")\n",
    "\n",
    "entries = fast_ma.ma_crossed_above(slow_ma)\n",
    "exits = fast_ma.ma_crossed_below(slow_ma)\n",
    "\n",
    "pf = vbt.Portfolio.from_signals(btc_price, entries, exits)\n",
    "\n",
    "pf.total_return()"
   ]
  },
  {
   "cell_type": "code",
   "execution_count": 6,
   "metadata": {},
   "outputs": [
    {
     "name": "stderr",
     "output_type": "stream",
     "text": [
      "/home/animalibera/.pyenv/versions/3.12.1/lib/python3.12/site-packages/yfinance/utils.py:775: FutureWarning: The 'unit' keyword in TimedeltaIndex construction is deprecated and will be removed in a future version. Use pd.to_timedelta instead.\n",
      "  df.index += _pd.TimedeltaIndex(dst_error_hours, 'h')\n"
     ]
    },
    {
     "data": {
      "text/html": [
       "<div>\n",
       "<style scoped>\n",
       "    .dataframe tbody tr th:only-of-type {\n",
       "        vertical-align: middle;\n",
       "    }\n",
       "\n",
       "    .dataframe tbody tr th {\n",
       "        vertical-align: top;\n",
       "    }\n",
       "\n",
       "    .dataframe thead th {\n",
       "        text-align: right;\n",
       "    }\n",
       "</style>\n",
       "<table border=\"1\" class=\"dataframe\">\n",
       "  <thead>\n",
       "    <tr style=\"text-align: right;\">\n",
       "      <th>symbol</th>\n",
       "      <th>BTC</th>\n",
       "      <th>ETH</th>\n",
       "    </tr>\n",
       "    <tr>\n",
       "      <th>Date</th>\n",
       "      <th></th>\n",
       "      <th></th>\n",
       "    </tr>\n",
       "  </thead>\n",
       "  <tbody>\n",
       "    <tr>\n",
       "      <th>2019-01-01 00:00:00+00:00</th>\n",
       "      <td>3843.520020</td>\n",
       "      <td>140.819412</td>\n",
       "    </tr>\n",
       "    <tr>\n",
       "      <th>2019-01-02 00:00:00+00:00</th>\n",
       "      <td>3943.409424</td>\n",
       "      <td>155.047684</td>\n",
       "    </tr>\n",
       "    <tr>\n",
       "      <th>2019-01-03 00:00:00+00:00</th>\n",
       "      <td>3836.741211</td>\n",
       "      <td>149.135010</td>\n",
       "    </tr>\n",
       "    <tr>\n",
       "      <th>2019-01-04 00:00:00+00:00</th>\n",
       "      <td>3857.717529</td>\n",
       "      <td>154.581940</td>\n",
       "    </tr>\n",
       "    <tr>\n",
       "      <th>2019-01-05 00:00:00+00:00</th>\n",
       "      <td>3845.194580</td>\n",
       "      <td>155.638596</td>\n",
       "    </tr>\n",
       "    <tr>\n",
       "      <th>...</th>\n",
       "      <td>...</td>\n",
       "      <td>...</td>\n",
       "    </tr>\n",
       "    <tr>\n",
       "      <th>2019-12-27 00:00:00+00:00</th>\n",
       "      <td>7290.088379</td>\n",
       "      <td>127.214607</td>\n",
       "    </tr>\n",
       "    <tr>\n",
       "      <th>2019-12-28 00:00:00+00:00</th>\n",
       "      <td>7317.990234</td>\n",
       "      <td>128.322708</td>\n",
       "    </tr>\n",
       "    <tr>\n",
       "      <th>2019-12-29 00:00:00+00:00</th>\n",
       "      <td>7422.652832</td>\n",
       "      <td>134.757980</td>\n",
       "    </tr>\n",
       "    <tr>\n",
       "      <th>2019-12-30 00:00:00+00:00</th>\n",
       "      <td>7292.995117</td>\n",
       "      <td>132.633484</td>\n",
       "    </tr>\n",
       "    <tr>\n",
       "      <th>2019-12-31 00:00:00+00:00</th>\n",
       "      <td>7193.599121</td>\n",
       "      <td>129.610855</td>\n",
       "    </tr>\n",
       "  </tbody>\n",
       "</table>\n",
       "<p>365 rows × 2 columns</p>\n",
       "</div>"
      ],
      "text/plain": [
       "symbol                             BTC         ETH\n",
       "Date                                              \n",
       "2019-01-01 00:00:00+00:00  3843.520020  140.819412\n",
       "2019-01-02 00:00:00+00:00  3943.409424  155.047684\n",
       "2019-01-03 00:00:00+00:00  3836.741211  149.135010\n",
       "2019-01-04 00:00:00+00:00  3857.717529  154.581940\n",
       "2019-01-05 00:00:00+00:00  3845.194580  155.638596\n",
       "...                                ...         ...\n",
       "2019-12-27 00:00:00+00:00  7290.088379  127.214607\n",
       "2019-12-28 00:00:00+00:00  7317.990234  128.322708\n",
       "2019-12-29 00:00:00+00:00  7422.652832  134.757980\n",
       "2019-12-30 00:00:00+00:00  7292.995117  132.633484\n",
       "2019-12-31 00:00:00+00:00  7193.599121  129.610855\n",
       "\n",
       "[365 rows x 2 columns]"
      ]
     },
     "execution_count": 6,
     "metadata": {},
     "output_type": "execute_result"
    }
   ],
   "source": [
    "eth_price = vbt.YFData.download('ETH-USD', start=start, end=end).get('Close')\n",
    "comb_price = btc_price.vbt.concat(eth_price, keys=pd.Index(['BTC', 'ETH'], name='symbol'))\n",
    "comb_price.vbt.drop_levels(-1, inplace=True)\n",
    "comb_price"
   ]
  },
  {
   "cell_type": "code",
   "execution_count": 7,
   "metadata": {},
   "outputs": [
    {
     "data": {
      "text/plain": [
       "fast_window  slow_window  symbol\n",
       "10           30           BTC       0.847151\n",
       "                          ETH       0.244204\n",
       "20           30           BTC       0.543411\n",
       "                          ETH      -0.319102\n",
       "Name: total_return, dtype: float64"
      ]
     },
     "execution_count": 7,
     "metadata": {},
     "output_type": "execute_result"
    }
   ],
   "source": [
    "fast_ma = vbt.MA.run(comb_price, [10, 20], short_name='fast')\n",
    "slow_ma = vbt.MA.run(comb_price, [30, 30], short_name='slow')\n",
    "\n",
    "entries = fast_ma.ma_crossed_above(slow_ma)\n",
    "exits = fast_ma.ma_crossed_below(slow_ma)\n",
    "\n",
    "pf = vbt.Portfolio.from_signals(comb_price, entries, exits)\n",
    "pf.total_return()"
   ]
  },
  {
   "cell_type": "code",
   "execution_count": 12,
   "metadata": {},
   "outputs": [
    {
     "data": {
      "text/plain": [
       "symbol\n",
       "BTC    0.695281\n",
       "ETH   -0.037449\n",
       "Name: total_return, dtype: float64"
      ]
     },
     "execution_count": 12,
     "metadata": {},
     "output_type": "execute_result"
    }
   ],
   "source": [
    "mean_return = pf.total_return().groupby('symbol').mean()\n",
    "#mean_return.vbt.barplot(xaxis_title='Symbol', yaxis_title='Mean total return')\n",
    "mean_return"
   ]
  },
  {
   "cell_type": "code",
   "execution_count": 15,
   "metadata": {},
   "outputs": [
    {
     "name": "stderr",
     "output_type": "stream",
     "text": [
      "/tmp/ipykernel_21263/3978197583.py:1: UserWarning:\n",
      "\n",
      "Object has multiple columns. Aggregating using <function mean at 0x7f1334117b00>. Pass column to select a single column/group.\n",
      "\n"
     ]
    },
    {
     "data": {
      "text/plain": [
       "Start                         2019-01-01 00:00:00+00:00\n",
       "End                           2019-12-31 00:00:00+00:00\n",
       "Period                                365 days 00:00:00\n",
       "Start Value                                       100.0\n",
       "End Value                                    132.891607\n",
       "Total Return [%]                              32.891607\n",
       "Benchmark Return [%]                          39.601109\n",
       "Max Gross Exposure [%]                            100.0\n",
       "Total Fees Paid                                     0.0\n",
       "Max Drawdown [%]                              49.092492\n",
       "Max Drawdown Duration                 188 days 00:00:00\n",
       "Total Trades                                       6.25\n",
       "Total Closed Trades                                 6.0\n",
       "Total Open Trades                                  0.25\n",
       "Open Trade PnL                                -1.470394\n",
       "Win Rate [%]                                       45.0\n",
       "Best Trade [%]                                86.873771\n",
       "Worst Trade [%]                              -21.243114\n",
       "Avg Winning Trade [%]                          46.12039\n",
       "Avg Losing Trade [%]                         -14.199695\n",
       "Avg Winning Trade Duration             51 days 07:30:00\n",
       "Avg Losing Trade Duration              16 days 06:00:00\n",
       "Profit Factor                                  1.467732\n",
       "Expectancy                                     6.979398\n",
       "Sharpe Ratio                                    0.67885\n",
       "Calmar Ratio                                   0.760491\n",
       "Omega Ratio                                    1.171797\n",
       "Sortino Ratio                                  1.068606\n",
       "Name: agg_func_mean, dtype: object"
      ]
     },
     "execution_count": 15,
     "metadata": {},
     "output_type": "execute_result"
    }
   ],
   "source": [
    "pf.stats()\n"
   ]
  }
 ],
 "metadata": {
  "kernelspec": {
   "display_name": "Python 3",
   "language": "python",
   "name": "python3"
  },
  "language_info": {
   "codemirror_mode": {
    "name": "ipython",
    "version": 3
   },
   "file_extension": ".py",
   "mimetype": "text/x-python",
   "name": "python",
   "nbconvert_exporter": "python",
   "pygments_lexer": "ipython3",
   "version": "3.12.1"
  }
 },
 "nbformat": 4,
 "nbformat_minor": 2
}
