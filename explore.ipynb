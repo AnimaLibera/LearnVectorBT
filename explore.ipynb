{
 "cells": [
  {
   "cell_type": "markdown",
   "metadata": {},
   "source": [
    "# Explore the VectorBT Module"
   ]
  },
  {
   "cell_type": "code",
   "execution_count": 1,
   "metadata": {},
   "outputs": [
    {
     "name": "stderr",
     "output_type": "stream",
     "text": [
      "/tmp/ipykernel_21263/794029728.py:2: DeprecationWarning: \n",
      "Pyarrow will become a required dependency of pandas in the next major release of pandas (pandas 3.0),\n",
      "(to allow more performant data types, such as the Arrow string type, and better interoperability with other libraries)\n",
      "but was not found to be installed on your system.\n",
      "If this would cause problems for you,\n",
      "please provide us feedback at https://github.com/pandas-dev/pandas/issues/54466\n",
      "        \n",
      "  import pandas as pd\n"
     ]
    }
   ],
   "source": [
    "import numpy as np\n",
    "import pandas as pd\n",
    "from datetime import datetime\n",
    "import vectorbt as vbt"
   ]
  },
  {
   "cell_type": "code",
   "execution_count": 2,
   "metadata": {},
   "outputs": [
    {
     "name": "stderr",
     "output_type": "stream",
     "text": [
      "/home/animalibera/.pyenv/versions/3.12.1/lib/python3.12/site-packages/yfinance/utils.py:775: FutureWarning: The 'unit' keyword in TimedeltaIndex construction is deprecated and will be removed in a future version. Use pd.to_timedelta instead.\n",
      "  df.index += _pd.TimedeltaIndex(dst_error_hours, 'h')\n"
     ]
    },
    {
     "data": {
      "text/plain": [
       "Date\n",
       "2019-01-01 00:00:00+00:00    3843.520020\n",
       "2019-01-02 00:00:00+00:00    3943.409424\n",
       "2019-01-03 00:00:00+00:00    3836.741211\n",
       "2019-01-04 00:00:00+00:00    3857.717529\n",
       "2019-01-05 00:00:00+00:00    3845.194580\n",
       "                                ...     \n",
       "2019-12-27 00:00:00+00:00    7290.088379\n",
       "2019-12-28 00:00:00+00:00    7317.990234\n",
       "2019-12-29 00:00:00+00:00    7422.652832\n",
       "2019-12-30 00:00:00+00:00    7292.995117\n",
       "2019-12-31 00:00:00+00:00    7193.599121\n",
       "Freq: D, Name: Close, Length: 365, dtype: float64"
      ]
     },
     "execution_count": 2,
     "metadata": {},
     "output_type": "execute_result"
    }
   ],
   "source": [
    "start = '2019-01-01 UTC'  # crypto is in UTC\n",
    "end = '2020-01-01 UTC'\n",
    "btc_price = vbt.YFData.download('BTC-USD', start=start, end=end).get('Close')\n",
    "btc_price"
   ]
  },
  {
   "cell_type": "code",
   "execution_count": 3,
   "metadata": {},
   "outputs": [
    {
     "data": {
      "text/plain": [
       "0.6351860771192923"
      ]
     },
     "execution_count": 3,
     "metadata": {},
     "output_type": "execute_result"
    }
   ],
   "source": [
    "fast_ma = vbt.MA.run(btc_price, 10, short_name=\"fast\")\n",
    "slow_ma = vbt.MA.run(btc_price, 20, short_name=\"slow\")\n",
    "\n",
    "entries = fast_ma.ma_crossed_above(slow_ma)\n",
    "exits = fast_ma.ma_crossed_below(slow_ma)\n",
    "\n",
    "pf = vbt.Portfolio.from_signals(btc_price, entries, exits)\n",
    "\n",
    "pf.total_return()"
   ]
  },
  {
   "cell_type": "code",
   "execution_count": 5,
   "metadata": {},
   "outputs": [
    {
     "data": {
      "text/plain": [
       "fast_window  slow_window\n",
       "10           30             0.847151\n",
       "20           30             0.543411\n",
       "Name: total_return, dtype: float64"
      ]
     },
     "execution_count": 5,
     "metadata": {},
     "output_type": "execute_result"
    }
   ],
   "source": [
    "fast_ma = vbt.MA.run(btc_price, [10, 20], short_name=\"fast\")\n",
    "slow_ma = vbt.MA.run(btc_price, [30, 30], short_name=\"slow\")\n",
    "\n",
    "entries = fast_ma.ma_crossed_above(slow_ma)\n",
    "exits = fast_ma.ma_crossed_below(slow_ma)\n",
    "\n",
    "pf = vbt.Portfolio.from_signals(btc_price, entries, exits)\n",
    "\n",
    "pf.total_return()"
   ]
  }
 ],
 "metadata": {
  "kernelspec": {
   "display_name": "Python 3",
   "language": "python",
   "name": "python3"
  },
  "language_info": {
   "codemirror_mode": {
    "name": "ipython",
    "version": 3
   },
   "file_extension": ".py",
   "mimetype": "text/x-python",
   "name": "python",
   "nbconvert_exporter": "python",
   "pygments_lexer": "ipython3",
   "version": "3.12.1"
  }
 },
 "nbformat": 4,
 "nbformat_minor": 2
}
